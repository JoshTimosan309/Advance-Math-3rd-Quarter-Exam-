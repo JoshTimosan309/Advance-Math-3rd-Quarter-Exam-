{
  "cells": [
    {
      "cell_type": "code",
      "execution_count": 1,
      "metadata": {
        "id": "x25fShwcsxvc"
      },
      "outputs": [],
      "source": [
        "import numpy as np"
      ]
    },
    {
      "cell_type": "markdown",
      "metadata": {
        "id": "OQjc6JAPsxve"
      },
      "source": [
        "## Problem 1: System of Linear Equations"
      ]
    },
    {
      "cell_type": "code",
      "execution_count": 2,
      "metadata": {
        "colab": {
          "base_uri": "https://localhost:8080/"
        },
        "id": "JPdl08LVsxvg",
        "outputId": "add311e4-c4ba-4fd9-e4e4-576b5247a29f"
      },
      "outputs": [
        {
          "output_type": "stream",
          "name": "stdout",
          "text": [
            "Solution for Problem 1:\n",
            "x₁ = 2.6410\n",
            "x₂ = 1.6154\n",
            "x₃ = 1.8974\n"
          ]
        }
      ],
      "source": [
        "# Problem 1\n",
        "A1 = np.array([\n",
        "    [2, 1, -1],\n",
        "    [-1, 3, 2],\n",
        "    [1, -2, 4]\n",
        "])\n",
        "B1 = np.array([5, 6, 7])\n",
        "\n",
        "X1 = np.dot(np.linalg.inv(A1), B1)\n",
        "print(\"Solution for Problem 1:\")\n",
        "print(f\"x₁ = {X1[0]:.4f}\")\n",
        "print(f\"x₂ = {X1[1]:.4f}\")\n",
        "print(f\"x₃ = {X1[2]:.4f}\")"
      ]
    },
    {
      "cell_type": "markdown",
      "metadata": {
        "id": "db_THb6Tsxvh"
      },
      "source": [
        "## Problem 2: Network Data Flow"
      ]
    },
    {
      "cell_type": "code",
      "execution_count": 3,
      "metadata": {
        "colab": {
          "base_uri": "https://localhost:8080/"
        },
        "id": "hKlJQqv6sxvi",
        "outputId": "eb8e0b62-0477-4117-ec93-afaf4a60d835"
      },
      "outputs": [
        {
          "output_type": "stream",
          "name": "stdout",
          "text": [
            "Solution for Problem 2:\n",
            "x1 = -23.8667\n",
            "x2 = 137.6000\n",
            "x3 = -336.0000\n",
            "x4 = 242.5333\n",
            "x5 = 241.8667\n"
          ]
        }
      ],
      "source": [
        "# Problem 2\n",
        "A2 = np.array([\n",
        "    [5, 3, 1, 1, 0],\n",
        "    [4, 6, 2, 0, 1],\n",
        "    [2, 7, 3, 1, 0],\n",
        "    [1, 2, 4, 5, 0],\n",
        "    [3, 4, 5, 0, 6]\n",
        "])\n",
        "B2 = np.array([200, 300, 150, 120, 250])\n",
        "\n",
        "X2 = np.dot(np.linalg.inv(A2), B2)\n",
        "print(\"Solution for Problem 2:\")\n",
        "for i, x in enumerate(X2, 1):\n",
        "    print(f\"x{i} = {x:.4f}\")"
      ]
    },
    {
      "cell_type": "markdown",
      "metadata": {
        "id": "7scNiKzQsxvi"
      },
      "source": [
        "## Problem 3: Modified Network with Additional Load"
      ]
    },
    {
      "cell_type": "code",
      "execution_count": 4,
      "metadata": {
        "colab": {
          "base_uri": "https://localhost:8080/"
        },
        "id": "SAy6yuI4sxvi",
        "outputId": "14405823-0173-48c4-8558-bbe111bb1471"
      },
      "outputs": [
        {
          "output_type": "stream",
          "name": "stdout",
          "text": [
            "Solution for Problem 3:\n",
            "x1 = -5.1020\n",
            "x2 = 119.1020\n",
            "x3 = -270.8571\n",
            "x4 = 139.0612\n",
            "x5 = 147.5102\n"
          ]
        }
      ],
      "source": [
        "# Problem 3 - Using Problem 2's matrix with modified load\n",
        "A3 = np.array([\n",
        "    [5, 3, 1, 1, 0],\n",
        "    [4, 6, 2, 0, 1],\n",
        "    [2, 7, 3, 1, 0],\n",
        "    [1, 2, 4, 5, 2],  # Modified with additional connection\n",
        "    [3, 4, 5, 2, 6]   # Modified with additional connection\n",
        "])\n",
        "B3 = np.array([200, 300, 150, 140, 270])  # Modified load values\n",
        "\n",
        "X3 = np.dot(np.linalg.inv(A3), B3)\n",
        "print(\"Solution for Problem 3:\")\n",
        "for i, x in enumerate(X3, 1):\n",
        "    print(f\"x{i} = {x:.4f}\")"
      ]
    },
    {
      "cell_type": "markdown",
      "metadata": {
        "id": "TSR-NDS8sxvj"
      },
      "source": [
        "## Problem 4: Network with Redundant Paths"
      ]
    },
    {
      "cell_type": "code",
      "execution_count": 5,
      "metadata": {
        "colab": {
          "base_uri": "https://localhost:8080/"
        },
        "id": "YqBQLXzgsxvj",
        "outputId": "cb8422b7-fd74-4f87-903b-a2b2b7005813"
      },
      "outputs": [
        {
          "output_type": "stream",
          "name": "stdout",
          "text": [
            "Solution for Problem 4:\n",
            "x1 = -87.5281\n",
            "x2 = 88.9888\n",
            "x3 = -226.7416\n",
            "x4 = 187.3034\n",
            "x5 = 215.0562\n"
          ]
        }
      ],
      "source": [
        "# Problem 4 - Using Problem 2's matrix with redundant paths\n",
        "A4 = np.array([\n",
        "    [5, 3, 1, 1, 2],  # Added backup path\n",
        "    [4, 6, 2, 2, 1],  # Added backup path\n",
        "    [2, 7, 3, 1, 1],  # Added backup path\n",
        "    [1, 2, 4, 5, 0],\n",
        "    [3, 4, 5, 0, 6]\n",
        "])\n",
        "B4 = np.array([220, 320, 170, 120, 250])  # Adjusted for backup paths\n",
        "\n",
        "X4 = np.dot(np.linalg.inv(A4), B4)\n",
        "print(\"Solution for Problem 4:\")\n",
        "for i, x in enumerate(X4, 1):\n",
        "    print(f\"x{i} = {x:.4f}\")"
      ]
    },
    {
      "cell_type": "markdown",
      "metadata": {
        "id": "JZtmnqaxsxvj"
      },
      "source": [
        "## Problem 5: Comparison of Solutions"
      ]
    },
    {
      "cell_type": "code",
      "execution_count": 6,
      "metadata": {
        "colab": {
          "base_uri": "https://localhost:8080/"
        },
        "id": "wq0G6Ngrsxvj",
        "outputId": "c48943bc-c1d1-4f32-9c82-408dcce5357d"
      },
      "outputs": [
        {
          "output_type": "stream",
          "name": "stdout",
          "text": [
            "Comparison of Solutions:\n",
            "\n",
            "Original Network (Problem 2):\n",
            "x1 = -23.8667\n",
            "x2 = 137.6000\n",
            "x3 = -336.0000\n",
            "x4 = 242.5333\n",
            "x5 = 241.8667\n",
            "\n",
            "Network with Additional Load (Problem 3):\n",
            "x1 = -5.1020\n",
            "x2 = 119.1020\n",
            "x3 = -270.8571\n",
            "x4 = 139.0612\n",
            "x5 = 147.5102\n",
            "\n",
            "Network with Redundant Paths (Problem 4):\n",
            "x1 = -87.5281\n",
            "x2 = 88.9888\n",
            "x3 = -226.7416\n",
            "x4 = 187.3034\n",
            "x5 = 215.0562\n"
          ]
        }
      ],
      "source": [
        "# Problem 5 - Compare solutions\n",
        "print(\"Comparison of Solutions:\")\n",
        "print(\"\\nOriginal Network (Problem 2):\")\n",
        "for i, x in enumerate(X2, 1):\n",
        "    print(f\"x{i} = {x:.4f}\")\n",
        "\n",
        "print(\"\\nNetwork with Additional Load (Problem 3):\")\n",
        "for i, x in enumerate(X3, 1):\n",
        "    print(f\"x{i} = {x:.4f}\")\n",
        "\n",
        "print(\"\\nNetwork with Redundant Paths (Problem 4):\")\n",
        "for i, x in enumerate(X4, 1):\n",
        "    print(f\"x{i} = {x:.4f}\")"
      ]
    }
  ],
  "metadata": {
    "kernelspec": {
      "display_name": "Python 3",
      "language": "python",
      "name": "python3"
    },
    "colab": {
      "provenance": []
    }
  },
  "nbformat": 4,
  "nbformat_minor": 0
}